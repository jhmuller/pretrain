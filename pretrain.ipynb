{
 "cells": [
  {
   "cell_type": "code",
   "execution_count": 1,
   "id": "56e81104",
   "metadata": {},
   "outputs": [
    {
     "name": "stderr",
     "output_type": "stream",
     "text": [
      "2022-10-17 11:33:11.573975: I tensorflow/core/platform/cpu_feature_guard.cc:193] This TensorFlow binary is optimized with oneAPI Deep Neural Network Library (oneDNN) to use the following CPU instructions in performance-critical operations:  AVX2 FMA\n",
      "To enable them in other operations, rebuild TensorFlow with the appropriate compiler flags.\n",
      "2022-10-17 11:33:11.707938: E tensorflow/stream_executor/cuda/cuda_blas.cc:2981] Unable to register cuBLAS factory: Attempting to register factory for plugin cuBLAS when one has already been registered\n",
      "2022-10-17 11:33:12.180943: W tensorflow/stream_executor/platform/default/dso_loader.cc:64] Could not load dynamic library 'libnvinfer.so.7'; dlerror: libnvinfer.so.7: cannot open shared object file: No such file or directory; LD_LIBRARY_PATH: /usr/lib/cuda/include:/usr/lib/cuda/lib64:\n",
      "2022-10-17 11:33:12.180998: W tensorflow/stream_executor/platform/default/dso_loader.cc:64] Could not load dynamic library 'libnvinfer_plugin.so.7'; dlerror: libnvinfer_plugin.so.7: cannot open shared object file: No such file or directory; LD_LIBRARY_PATH: /usr/lib/cuda/include:/usr/lib/cuda/lib64:\n",
      "2022-10-17 11:33:12.181004: W tensorflow/compiler/tf2tensorrt/utils/py_utils.cc:38] TF-TRT Warning: Cannot dlopen some TensorRT libraries. If you would like to use Nvidia GPU with TensorRT, please make sure the missing libraries mentioned above are installed properly.\n"
     ]
    }
   ],
   "source": [
    "import os\n",
    "import shutil\n",
    "import numpy as np\n",
    "import tensorflow as tf\n",
    "from PIL import Image\n",
    "import tensorflow.keras as keras"
   ]
  },
  {
   "cell_type": "code",
   "execution_count": 41,
   "id": "3cb50940",
   "metadata": {},
   "outputs": [
    {
     "name": "stdout",
     "output_type": "stream",
     "text": [
      "2.10.0\n",
      "  2\n"
     ]
    }
   ],
   "source": [
    "import tensorflow as tf\n",
    "print(tf.__version__)\n",
    "\n",
    "# Set CPU as available physical device\n",
    "my_devices = tf.config.experimental.list_physical_devices(device_type='CPU')\n",
    "#tf.config.experimental.set_visible_devices(devices= my_devices, device_type='CPU')\n",
    "\n",
    "#tf.config.set_visible_devices([], 'GPU')\n",
    "print(\" \", len(tf.config.list_physical_devices()))"
   ]
  },
  {
   "cell_type": "code",
   "execution_count": 38,
   "id": "883af85d",
   "metadata": {},
   "outputs": [
    {
     "name": "stdout",
     "output_type": "stream",
     "text": [
      "Num GPUs Available:  1\n"
     ]
    }
   ],
   "source": [
    "os.environ[\"CUDA_VISIBLE_DEVICES\"]=\"-1\" \n",
    "\n",
    "try:\n",
    "    # Disable all GPUS\n",
    "    tf.config.set_visible_devices([], 'GPU')\n",
    "    visible_devices = tf.config.get_visible_devices()\n",
    "    for device in visible_devices:\n",
    "        print(device)\n",
    "        assert device.device_type != 'GPU'\n",
    "except:\n",
    "    # Invalid device or cannot modify virtual devices once initialized.\n",
    "    pass\n",
    "print(\"Num GPUs Available: \", len(tf.config.list_physical_devices('GPU')))\n"
   ]
  },
  {
   "cell_type": "code",
   "execution_count": 45,
   "id": "263e97a6",
   "metadata": {},
   "outputs": [],
   "source": [
    "# set the batch size\n",
    "batch_size = 2\n",
    "image_size = (128, 128)"
   ]
  },
  {
   "cell_type": "code",
   "execution_count": 46,
   "id": "f3ce40af",
   "metadata": {},
   "outputs": [],
   "source": [
    "import keras.backend as K\n",
    "\n",
    "dtype='float16'\n",
    "K.set_floatx(dtype)\n",
    "\n",
    "# default is 1e-7 which is too small for float16.  Without adjusting the epsilon, we will get NaN predictions because of divide by zero problems\n",
    "K.set_epsilon(1e-4)"
   ]
  },
  {
   "cell_type": "code",
   "execution_count": 50,
   "id": "fb5d84df",
   "metadata": {},
   "outputs": [
    {
     "name": "stdout",
     "output_type": "stream",
     "text": [
      "Num GPUs Available:  1\n"
     ]
    }
   ],
   "source": [
    "# Create the base model from the pre-trained model MobileNet V2\n",
    "image_shape = image_size + (3,)\n",
    "print(\"Num GPUs Available: \", len(tf.config.list_physical_devices('GPU')))\n",
    "#os.environ[\"CUDA_VISIBLE_DEVICES\"]=\"-1\" \n",
    "tf.device(\"cpu:0\")\n",
    "#tf.device(\"gpu:0\")\n",
    "if False:\n",
    "     \n",
    "    base_model = tf.keras.applications.efficientnet.EfficientNetB0(\n",
    "    include_top=False,\n",
    "    weights='imagenet',\n",
    "    input_shape=image_shape,\n",
    "    pooling=None,\n",
    "    classes=2,\n",
    "    classifier_activation='softmax',)\n",
    "if False:\n",
    "    base_model = tf.keras.applications.resnet50.ResNet50(\n",
    "            include_top=False,\n",
    "            weights='imagenet',\n",
    "            input_tensor=None,\n",
    "            input_shape=image_shape,\n",
    "            pooling=None,\n",
    "            classes=2,\n",
    "            #**kwargs\n",
    "        )\n",
    "if False:\n",
    "    base_model = tf.keras.applications.MobileNet(input_shape=image_shape,\n",
    "                                              include_top=False,\n",
    "                                              weights='imagenet')"
   ]
  },
  {
   "cell_type": "code",
   "execution_count": 48,
   "id": "b8760669",
   "metadata": {},
   "outputs": [
    {
     "name": "stdout",
     "output_type": "stream",
     "text": [
      "sunflowers\n",
      "daisy\n"
     ]
    }
   ],
   "source": [
    "flowerdirs = os.listdir(\"2flowers\")\n",
    "destdir = \"128_flowers\"\n",
    "if os.path.isdir(destdir):\n",
    "    shutil.rmtree(destdir)\n",
    "if not os.path.isdir(destdir):\n",
    "    os.mkdir(destdir)\n",
    "    \n",
    "subdirs = os.listdir(destdir)\n",
    "for flowerdir in flowerdirs:\n",
    "    print(flowerdir)\n",
    "    subdir = os.path.join(destdir, flowerdir)\n",
    "    if not os.path.exists(subdir):\n",
    "        os.makedirs(subdir)\n",
    "\n",
    "    for i, file in  enumerate(os.listdir(os.path.join(\"2flowers\", flowerdir))):\n",
    "        fpath = os.path.join(\"2flowers\", flowerdir, file)\n",
    "        orig = Image.open(fpath)\n",
    "        temp = orig.convert(\"RGB\")\n",
    "        small = temp.resize(image_size)\n",
    "        small.save(os.path.join(destdir, flowerdir, file))\n"
   ]
  },
  {
   "cell_type": "code",
   "execution_count": 7,
   "id": "5b26117c",
   "metadata": {},
   "outputs": [
    {
     "name": "stdout",
     "output_type": "stream",
     "text": [
      "Found 1332 files belonging to 2 classes.\n",
      "Using 1066 files for training.\n"
     ]
    }
   ],
   "source": [
    "# create the training data set\n",
    "train_ds = tf.keras.utils.image_dataset_from_directory(\n",
    "    \"128_flowers\",\n",
    "    labels=\"inferred\",\n",
    "    label_mode=\"int\",\n",
    "    class_names=None,\n",
    "    color_mode=\"rgb\",\n",
    "    batch_size=batch_size,\n",
    "    image_size=image_size,\n",
    "    shuffle=True,\n",
    "    seed=145,\n",
    "    validation_split=0.2,\n",
    "    subset=\"training\",\n",
    "    interpolation=\"bilinear\",\n",
    "    follow_links=False,\n",
    "    crop_to_aspect_ratio=False,\n",
    ")"
   ]
  },
  {
   "cell_type": "code",
   "execution_count": 8,
   "id": "64c7a308",
   "metadata": {},
   "outputs": [
    {
     "name": "stdout",
     "output_type": "stream",
     "text": [
      "['daisy', 'sunflowers']\n"
     ]
    }
   ],
   "source": [
    "# double check the class names\n",
    "class_names = train_ds.class_names\n",
    "print(class_names)"
   ]
  },
  {
   "cell_type": "code",
   "execution_count": 9,
   "id": "a378a0be",
   "metadata": {},
   "outputs": [
    {
     "name": "stdout",
     "output_type": "stream",
     "text": [
      "Found 1332 files belonging to 2 classes.\n",
      "Using 266 files for validation.\n"
     ]
    }
   ],
   "source": [
    "# create the validation data set\n",
    "val_ds = tf.keras.utils.image_dataset_from_directory(\n",
    "    \"128_flowers\",\n",
    "    labels=\"inferred\",\n",
    "    label_mode=\"int\",\n",
    "    class_names=None,\n",
    "    color_mode=\"rgb\",\n",
    "    batch_size=batch_size,\n",
    "    image_size=image_size,\n",
    "    shuffle=True,\n",
    "    seed=145,\n",
    "    validation_split=0.2,\n",
    "    subset=\"validation\",\n",
    "    interpolation=\"bilinear\",\n",
    "    follow_links=False,\n",
    "    crop_to_aspect_ratio=False,\n",
    ")"
   ]
  },
  {
   "cell_type": "code",
   "execution_count": 10,
   "id": "0848c816",
   "metadata": {},
   "outputs": [],
   "source": [
    "if False:\n",
    "    data_augmentation = tf.keras.Sequential([\n",
    "      tf.keras.layers.RandomFlip('horizontal'),\n",
    "      tf.keras.layers.RandomRotation(0.2),\n",
    "    ])"
   ]
  },
  {
   "cell_type": "code",
   "execution_count": 11,
   "id": "4410e8cd",
   "metadata": {},
   "outputs": [],
   "source": [
    "preprocess_input = tf.keras.applications.mobilenet.preprocess_input\n",
    "rescale = tf.keras.layers.Rescaling(1./127.5, offset=-1)"
   ]
  },
  {
   "cell_type": "code",
   "execution_count": null,
   "id": "384031cc",
   "metadata": {},
   "outputs": [],
   "source": []
  },
  {
   "cell_type": "code",
   "execution_count": 12,
   "id": "12a5f47c",
   "metadata": {},
   "outputs": [
    {
     "data": {
      "text/plain": [
       "'2.10.0'"
      ]
     },
     "execution_count": 12,
     "metadata": {},
     "output_type": "execute_result"
    }
   ],
   "source": [
    "tf.__version__"
   ]
  },
  {
   "cell_type": "code",
   "execution_count": 13,
   "id": "7e613bad",
   "metadata": {},
   "outputs": [
    {
     "name": "stdout",
     "output_type": "stream",
     "text": [
      "8 8\n"
     ]
    }
   ],
   "source": [
    "image_batch, label_batch = next(iter(train_ds))\n",
    "print(len(image_batch), len(label_batch))"
   ]
  },
  {
   "cell_type": "code",
   "execution_count": 14,
   "id": "9c5a9f57",
   "metadata": {},
   "outputs": [
    {
     "data": {
      "text/plain": [
       "<tf.Tensor: shape=(8, 128, 128, 3), dtype=float32, numpy=\n",
       "array([[[[ 47.,  71.,  49.],\n",
       "         [ 44.,  69.,  47.],\n",
       "         [ 32.,  57.,  35.],\n",
       "         ...,\n",
       "         [ 33.,  43.,  32.],\n",
       "         [ 30.,  40.,  29.],\n",
       "         [ 28.,  38.,  27.]],\n",
       "\n",
       "        [[ 41.,  65.,  43.],\n",
       "         [ 46.,  71.,  49.],\n",
       "         [ 30.,  58.,  35.],\n",
       "         ...,\n",
       "         [ 38.,  44.,  34.],\n",
       "         [ 40.,  46.,  36.],\n",
       "         [ 40.,  46.,  36.]],\n",
       "\n",
       "        [[ 57.,  82.,  60.],\n",
       "         [ 52.,  80.,  57.],\n",
       "         [ 22.,  52.,  28.],\n",
       "         ...,\n",
       "         [ 42.,  37.,  31.],\n",
       "         [ 44.,  39.,  33.],\n",
       "         [ 46.,  41.,  35.]],\n",
       "\n",
       "        ...,\n",
       "\n",
       "        [[ 84., 104.,  79.],\n",
       "         [ 79.,  99.,  74.],\n",
       "         [ 77.,  99.,  76.],\n",
       "         ...,\n",
       "         [ 51.,  76.,  55.],\n",
       "         [ 54.,  82.,  59.],\n",
       "         [ 58.,  88.,  62.]],\n",
       "\n",
       "        [[ 77.,  98.,  79.],\n",
       "         [ 78., 101.,  81.],\n",
       "         [ 83., 108.,  89.],\n",
       "         ...,\n",
       "         [ 68.,  91.,  75.],\n",
       "         [ 78., 103.,  84.],\n",
       "         [ 80., 108.,  86.]],\n",
       "\n",
       "        [[ 70.,  93.,  75.],\n",
       "         [ 78., 103.,  84.],\n",
       "         [ 87., 114.,  99.],\n",
       "         ...,\n",
       "         [ 79., 101.,  88.],\n",
       "         [ 78., 102.,  86.],\n",
       "         [ 64.,  91.,  72.]]],\n",
       "\n",
       "\n",
       "       [[[ 92.,  63.,  57.],\n",
       "         [106.,  77.,  71.],\n",
       "         [117.,  90.,  83.],\n",
       "         ...,\n",
       "         [122.,  95., 102.],\n",
       "         [115.,  88.,  95.],\n",
       "         [ 89.,  62.,  69.]],\n",
       "\n",
       "        [[ 93.,  64.,  58.],\n",
       "         [102.,  73.,  67.],\n",
       "         [115.,  88.,  81.],\n",
       "         ...,\n",
       "         [110.,  83.,  90.],\n",
       "         [109.,  82.,  89.],\n",
       "         [ 92.,  65.,  72.]],\n",
       "\n",
       "        [[ 94.,  65.,  59.],\n",
       "         [105.,  76.,  70.],\n",
       "         [129., 102.,  95.],\n",
       "         ...,\n",
       "         [114.,  87.,  94.],\n",
       "         [117.,  90.,  97.],\n",
       "         [110.,  83.,  90.]],\n",
       "\n",
       "        ...,\n",
       "\n",
       "        [[100., 140., 106.],\n",
       "         [120., 157., 123.],\n",
       "         [ 79., 116.,  82.],\n",
       "         ...,\n",
       "         [ 62.,  63.,  58.],\n",
       "         [ 33.,  33.,  31.],\n",
       "         [ 39.,  40.,  35.]],\n",
       "\n",
       "        [[ 90., 131.,  97.],\n",
       "         [109., 151., 115.],\n",
       "         [ 66., 106.,  71.],\n",
       "         ...,\n",
       "         [ 56.,  59.,  52.],\n",
       "         [ 45.,  46.,  41.],\n",
       "         [ 69.,  70.,  64.]],\n",
       "\n",
       "        [[ 90., 134.,  99.],\n",
       "         [ 84., 128.,  92.],\n",
       "         [ 67., 107.,  72.],\n",
       "         ...,\n",
       "         [ 62.,  65.,  58.],\n",
       "         [ 51.,  52.,  46.],\n",
       "         [ 51.,  52.,  46.]]],\n",
       "\n",
       "\n",
       "       [[[ 24.,  38.,  38.],\n",
       "         [ 23.,  37.,  37.],\n",
       "         [ 23.,  37.,  37.],\n",
       "         ...,\n",
       "         [ 90., 103., 111.],\n",
       "         [ 87., 100., 108.],\n",
       "         [ 82.,  95., 103.]],\n",
       "\n",
       "        [[ 15.,  29.,  29.],\n",
       "         [ 17.,  31.,  31.],\n",
       "         [ 20.,  34.,  34.],\n",
       "         ...,\n",
       "         [ 88., 101., 107.],\n",
       "         [ 87., 100., 106.],\n",
       "         [ 84.,  97., 103.]],\n",
       "\n",
       "        [[ 68.,  80.,  78.],\n",
       "         [ 70.,  82.,  80.],\n",
       "         [ 74.,  86.,  84.],\n",
       "         ...,\n",
       "         [ 84.,  98.,  99.],\n",
       "         [ 84.,  98.,  99.],\n",
       "         [ 83.,  97.,  98.]],\n",
       "\n",
       "        ...,\n",
       "\n",
       "        [[113., 104.,  35.],\n",
       "         [104.,  95.,  26.],\n",
       "         [106.,  97.,  30.],\n",
       "         ...,\n",
       "         [100., 109.,  26.],\n",
       "         [101., 114.,   8.],\n",
       "         [ 87., 103.,   0.]],\n",
       "\n",
       "        [[138., 130.,  47.],\n",
       "         [121., 113.,  32.],\n",
       "         [ 90.,  81.,   2.],\n",
       "         ...,\n",
       "         [104., 112.,  27.],\n",
       "         [123., 133.,  21.],\n",
       "         [102., 112.,   0.]],\n",
       "\n",
       "        [[132., 125.,  35.],\n",
       "         [127., 120.,  30.],\n",
       "         [ 93.,  83.,   0.],\n",
       "         ...,\n",
       "         [ 92.,  98.,  12.],\n",
       "         [113., 121.,   9.],\n",
       "         [101., 110.,   0.]]],\n",
       "\n",
       "\n",
       "       ...,\n",
       "\n",
       "\n",
       "       [[[ 23.,  51.,  28.],\n",
       "         [ 27.,  55.,  33.],\n",
       "         [ 31.,  56.,  37.],\n",
       "         ...,\n",
       "         [ 14.,  40.,   5.],\n",
       "         [  5.,  31.,   0.],\n",
       "         [ 28.,  52.,   4.]],\n",
       "\n",
       "        [[ 20.,  48.,  26.],\n",
       "         [ 23.,  51.,  29.],\n",
       "         [ 26.,  53.,  34.],\n",
       "         ...,\n",
       "         [ 24.,  51.,  16.],\n",
       "         [ 22.,  49.,   6.],\n",
       "         [ 32.,  60.,  12.]],\n",
       "\n",
       "        [[ 16.,  45.,  25.],\n",
       "         [ 19.,  48.,  28.],\n",
       "         [ 20.,  49.,  27.],\n",
       "         ...,\n",
       "         [ 29.,  60.,  26.],\n",
       "         [ 31.,  63.,  24.],\n",
       "         [ 28.,  61.,  18.]],\n",
       "\n",
       "        ...,\n",
       "\n",
       "        [[ 93., 124.,  54.],\n",
       "         [ 66.,  97.,  30.],\n",
       "         [ 44.,  73.,  15.],\n",
       "         ...,\n",
       "         [ 61., 114.,  60.],\n",
       "         [ 52., 103.,  47.],\n",
       "         [ 41.,  92.,  36.]],\n",
       "\n",
       "        [[ 94., 123.,  56.],\n",
       "         [ 58.,  89.,  22.],\n",
       "         [ 43.,  72.,  14.],\n",
       "         ...,\n",
       "         [ 55., 110.,  53.],\n",
       "         [ 46., 100.,  42.],\n",
       "         [ 45.,  99.,  39.]],\n",
       "\n",
       "        [[ 95., 124.,  57.],\n",
       "         [ 59.,  88.,  24.],\n",
       "         [ 52.,  81.,  23.],\n",
       "         ...,\n",
       "         [ 42., 100.,  41.],\n",
       "         [ 32.,  88.,  27.],\n",
       "         [ 47., 101.,  39.]]],\n",
       "\n",
       "\n",
       "       [[[211., 224., 230.],\n",
       "         [213., 226., 232.],\n",
       "         [218., 229., 233.],\n",
       "         ...,\n",
       "         [181., 214., 233.],\n",
       "         [181., 214., 233.],\n",
       "         [181., 214., 233.]],\n",
       "\n",
       "        [[206., 219., 225.],\n",
       "         [208., 221., 227.],\n",
       "         [212., 223., 227.],\n",
       "         ...,\n",
       "         [180., 213., 232.],\n",
       "         [180., 211., 231.],\n",
       "         [179., 212., 231.]],\n",
       "\n",
       "        [[206., 221., 226.],\n",
       "         [208., 221., 227.],\n",
       "         [211., 222., 228.],\n",
       "         ...,\n",
       "         [180., 211., 229.],\n",
       "         [182., 211., 229.],\n",
       "         [179., 210., 228.]],\n",
       "\n",
       "        ...,\n",
       "\n",
       "        [[ 36.,  44.,  33.],\n",
       "         [ 37.,  45.,  34.],\n",
       "         [ 35.,  43.,  30.],\n",
       "         ...,\n",
       "         [ 33.,  47.,   0.],\n",
       "         [ 28.,  41.,   0.],\n",
       "         [ 40.,  53.,   9.]],\n",
       "\n",
       "        [[ 36.,  44.,  46.],\n",
       "         [ 46.,  55.,  54.],\n",
       "         [ 32.,  41.,  38.],\n",
       "         ...,\n",
       "         [ 22.,  33.,   0.],\n",
       "         [ 45.,  57.,   7.],\n",
       "         [ 88., 101.,  47.]],\n",
       "\n",
       "        [[ 63.,  70.,  78.],\n",
       "         [ 66.,  73.,  79.],\n",
       "         [ 25.,  33.,  35.],\n",
       "         ...,\n",
       "         [ 24.,  32.,   0.],\n",
       "         [ 37.,  50.,   0.],\n",
       "         [ 83.,  97.,  38.]]],\n",
       "\n",
       "\n",
       "       [[[ 36.,  86.,  59.],\n",
       "         [ 39.,  87.,  61.],\n",
       "         [ 41.,  87.,  61.],\n",
       "         ...,\n",
       "         [ 68.,  93.,  53.],\n",
       "         [ 43.,  70.,  19.],\n",
       "         [ 44.,  72.,  14.]],\n",
       "\n",
       "        [[ 38.,  86.,  60.],\n",
       "         [ 24.,  72.,  46.],\n",
       "         [ 26.,  70.,  45.],\n",
       "         ...,\n",
       "         [ 55.,  80.,  41.],\n",
       "         [ 29.,  56.,   5.],\n",
       "         [ 96., 124.,  66.]],\n",
       "\n",
       "        [[ 22.,  68.,  42.],\n",
       "         [ 32.,  78.,  52.],\n",
       "         [ 58., 100.,  76.],\n",
       "         ...,\n",
       "         [ 41.,  65.,  31.],\n",
       "         [ 28.,  54.,   6.],\n",
       "         [ 94., 122.,  64.]],\n",
       "\n",
       "        ...,\n",
       "\n",
       "        [[  0.,   4.,   0.],\n",
       "         [  7.,  15.,   4.],\n",
       "         [ 32.,  40.,  27.],\n",
       "         ...,\n",
       "         [ 22.,  34.,  20.],\n",
       "         [ 19.,  31.,  17.],\n",
       "         [ 12.,  24.,  10.]],\n",
       "\n",
       "        [[ 19.,  27.,  16.],\n",
       "         [ 19.,  27.,  16.],\n",
       "         [ 21.,  29.,  16.],\n",
       "         ...,\n",
       "         [ 24.,  35.,  27.],\n",
       "         [ 22.,  33.,  25.],\n",
       "         [ 14.,  25.,  17.]],\n",
       "\n",
       "        [[ 21.,  29.,  18.],\n",
       "         [ 19.,  27.,  16.],\n",
       "         [  8.,  16.,   3.],\n",
       "         ...,\n",
       "         [ 19.,  30.,  26.],\n",
       "         [ 15.,  26.,  22.],\n",
       "         [  6.,  17.,  13.]]]], dtype=float32)>"
      ]
     },
     "execution_count": 14,
     "metadata": {},
     "output_type": "execute_result"
    }
   ],
   "source": [
    "image_batch"
   ]
  },
  {
   "cell_type": "code",
   "execution_count": 15,
   "id": "b4c95214",
   "metadata": {},
   "outputs": [
    {
     "name": "stderr",
     "output_type": "stream",
     "text": [
      "2022-10-17 11:34:28.303482: E tensorflow/stream_executor/cuda/cuda_dnn.cc:389] Could not create cudnn handle: CUDNN_STATUS_INTERNAL_ERROR\n",
      "2022-10-17 11:34:28.303541: W tensorflow/core/framework/op_kernel.cc:1780] OP_REQUIRES failed at conv_ops.cc:1134 : UNIMPLEMENTED: DNN library is not found.\n"
     ]
    },
    {
     "ename": "UnimplementedError",
     "evalue": "Exception encountered when calling layer \"conv1\" \"                 f\"(type Conv2D).\n\n{{function_node __wrapped__Conv2D_device_/job:localhost/replica:0/task:0/device:GPU:0}} DNN library is not found. [Op:Conv2D]\n\nCall arguments received by layer \"conv1\" \"                 f\"(type Conv2D):\n  • inputs=tf.Tensor(shape=(8, 128, 128, 3), dtype=float32)",
     "output_type": "error",
     "traceback": [
      "\u001b[0;31m---------------------------------------------------------------------------\u001b[0m",
      "\u001b[0;31mUnimplementedError\u001b[0m                        Traceback (most recent call last)",
      "Input \u001b[0;32mIn [15]\u001b[0m, in \u001b[0;36m<cell line: 1>\u001b[0;34m()\u001b[0m\n\u001b[0;32m----> 1\u001b[0m feature_batch \u001b[38;5;241m=\u001b[39m \u001b[43mbase_model\u001b[49m\u001b[43m(\u001b[49m\u001b[43mimage_batch\u001b[49m\u001b[43m)\u001b[49m\n\u001b[1;32m      2\u001b[0m \u001b[38;5;28mprint\u001b[39m(feature_batch\u001b[38;5;241m.\u001b[39mshape)\n",
      "File \u001b[0;32m~/anaconda3/envs/flowers/lib/python3.10/site-packages/keras/utils/traceback_utils.py:70\u001b[0m, in \u001b[0;36mfilter_traceback.<locals>.error_handler\u001b[0;34m(*args, **kwargs)\u001b[0m\n\u001b[1;32m     67\u001b[0m     filtered_tb \u001b[38;5;241m=\u001b[39m _process_traceback_frames(e\u001b[38;5;241m.\u001b[39m__traceback__)\n\u001b[1;32m     68\u001b[0m     \u001b[38;5;66;03m# To get the full stack trace, call:\u001b[39;00m\n\u001b[1;32m     69\u001b[0m     \u001b[38;5;66;03m# `tf.debugging.disable_traceback_filtering()`\u001b[39;00m\n\u001b[0;32m---> 70\u001b[0m     \u001b[38;5;28;01mraise\u001b[39;00m e\u001b[38;5;241m.\u001b[39mwith_traceback(filtered_tb) \u001b[38;5;28;01mfrom\u001b[39;00m \u001b[38;5;28mNone\u001b[39m\n\u001b[1;32m     71\u001b[0m \u001b[38;5;28;01mfinally\u001b[39;00m:\n\u001b[1;32m     72\u001b[0m     \u001b[38;5;28;01mdel\u001b[39;00m filtered_tb\n",
      "File \u001b[0;32m~/anaconda3/envs/flowers/lib/python3.10/site-packages/tensorflow/python/framework/ops.py:7209\u001b[0m, in \u001b[0;36mraise_from_not_ok_status\u001b[0;34m(e, name)\u001b[0m\n\u001b[1;32m   7207\u001b[0m \u001b[38;5;28;01mdef\u001b[39;00m \u001b[38;5;21mraise_from_not_ok_status\u001b[39m(e, name):\n\u001b[1;32m   7208\u001b[0m   e\u001b[38;5;241m.\u001b[39mmessage \u001b[38;5;241m+\u001b[39m\u001b[38;5;241m=\u001b[39m (\u001b[38;5;124m\"\u001b[39m\u001b[38;5;124m name: \u001b[39m\u001b[38;5;124m\"\u001b[39m \u001b[38;5;241m+\u001b[39m name \u001b[38;5;28;01mif\u001b[39;00m name \u001b[38;5;129;01mis\u001b[39;00m \u001b[38;5;129;01mnot\u001b[39;00m \u001b[38;5;28;01mNone\u001b[39;00m \u001b[38;5;28;01melse\u001b[39;00m \u001b[38;5;124m\"\u001b[39m\u001b[38;5;124m\"\u001b[39m)\n\u001b[0;32m-> 7209\u001b[0m   \u001b[38;5;28;01mraise\u001b[39;00m core\u001b[38;5;241m.\u001b[39m_status_to_exception(e) \u001b[38;5;28;01mfrom\u001b[39;00m \u001b[38;5;28mNone\u001b[39m\n",
      "\u001b[0;31mUnimplementedError\u001b[0m: Exception encountered when calling layer \"conv1\" \"                 f\"(type Conv2D).\n\n{{function_node __wrapped__Conv2D_device_/job:localhost/replica:0/task:0/device:GPU:0}} DNN library is not found. [Op:Conv2D]\n\nCall arguments received by layer \"conv1\" \"                 f\"(type Conv2D):\n  • inputs=tf.Tensor(shape=(8, 128, 128, 3), dtype=float32)"
     ]
    }
   ],
   "source": [
    "feature_batch = base_model(image_batch)\n",
    "print(feature_batch.shape)"
   ]
  },
  {
   "cell_type": "code",
   "execution_count": null,
   "id": "e33a25a2",
   "metadata": {},
   "outputs": [],
   "source": []
  },
  {
   "cell_type": "code",
   "execution_count": null,
   "id": "11d20c34",
   "metadata": {},
   "outputs": [],
   "source": [
    "base_model.trainable = False"
   ]
  },
  {
   "cell_type": "code",
   "execution_count": null,
   "id": "92de5d23",
   "metadata": {},
   "outputs": [],
   "source": [
    "#base_model.summary()"
   ]
  },
  {
   "cell_type": "code",
   "execution_count": null,
   "id": "506364b3",
   "metadata": {},
   "outputs": [],
   "source": [
    "global_average_layer = tf.keras.layers.GlobalAveragePooling2D()\n",
    "feature_batch_average = global_average_layer(feature_batch)\n",
    "print(feature_batch_average.shape)"
   ]
  },
  {
   "cell_type": "code",
   "execution_count": null,
   "id": "71240c07",
   "metadata": {},
   "outputs": [],
   "source": [
    "prediction_layer = tf.keras.layers.Dense(1)\n",
    "prediction_batch = prediction_layer(feature_batch_average)\n",
    "print(prediction_batch.shape)"
   ]
  },
  {
   "cell_type": "code",
   "execution_count": null,
   "id": "7c0c1f7e",
   "metadata": {},
   "outputs": [],
   "source": [
    "inputs = tf.keras.Input(shape=(160, 160, 3))\n",
    "x = data_augmentation(inputs)\n",
    "x = preprocess_input(x)\n",
    "x = base_model(x, training=False)\n",
    "x = global_average_layer(x)\n",
    "x = tf.keras.layers.Dropout(0.2)(x)\n",
    "outputs = prediction_layer(x)\n",
    "model = tf.keras.Model(inputs, outputs)"
   ]
  },
  {
   "cell_type": "code",
   "execution_count": null,
   "id": "bf79283a",
   "metadata": {},
   "outputs": [],
   "source": [
    "base_learning_rate = 0.0001\n",
    "model.compile(optimizer=tf.keras.optimizers.Adam(learning_rate=base_learning_rate),\n",
    "              loss=tf.keras.losses.BinaryCrossentropy(from_logits=True),\n",
    "              metrics=['accuracy'])"
   ]
  },
  {
   "cell_type": "code",
   "execution_count": null,
   "id": "a82508a2",
   "metadata": {},
   "outputs": [],
   "source": [
    "len(model.trainable_variables)"
   ]
  },
  {
   "cell_type": "code",
   "execution_count": null,
   "id": "14931a3a",
   "metadata": {},
   "outputs": [],
   "source": [
    "initial_epochs = 10\n",
    "history = model.fit(train_ds,\n",
    "                    epochs=initial_epochs,\n",
    "                    validation_data=val_ds)"
   ]
  },
  {
   "cell_type": "code",
   "execution_count": null,
   "id": "eb233cde",
   "metadata": {},
   "outputs": [],
   "source": [
    "loss0, accuracy0 = model.evaluate(val_ds)"
   ]
  },
  {
   "cell_type": "code",
   "execution_count": null,
   "id": "d7dbf136",
   "metadata": {},
   "outputs": [],
   "source": []
  }
 ],
 "metadata": {
  "kernelspec": {
   "display_name": "pretrain",
   "language": "python",
   "name": "pretrain"
  },
  "language_info": {
   "codemirror_mode": {
    "name": "ipython",
    "version": 3
   },
   "file_extension": ".py",
   "mimetype": "text/x-python",
   "name": "python",
   "nbconvert_exporter": "python",
   "pygments_lexer": "ipython3",
   "version": "3.10.4"
  }
 },
 "nbformat": 4,
 "nbformat_minor": 5
}
